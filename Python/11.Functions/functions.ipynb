{
 "cells": [
  {
   "cell_type": "markdown",
   "metadata": {},
   "source": [
    "* A **function** is a block of **organized code** written to carry out a **specified task.** \n",
    "\n",
    "* Functions **help break our program into smaller and modular chunks for better readability.**\n",
    "\n",
    "* Information can be passed into a function as **arguments.**\n",
    "\n",
    "* **Parameters** are specified after the function name **inside the parentheses.**\n",
    "\n",
    "* We can **add as many parameters as we want.**\n",
    "\n",
    "* Parameters **must be separated with a comma**. \n",
    "\n",
    "* A function **may or may not return data.** In Python a function is defined using the **def keyword**\n",
    "\n",
    "* A function is a block of code which only runs when it is called.\n",
    "\n",
    "* You can pass data, known as parameters, into a function.\n",
    "\n",
    "* A function can return data as a result.\n",
    "\n"
   ]
  },
  {
   "cell_type": "markdown",
   "metadata": {},
   "source": [
    "# Parameter VS Argument"
   ]
  },
  {
   "cell_type": "markdown",
   "metadata": {},
   "source": [
    "* **A parameter** is the variable l**isted inside the parentheses in the function definition.**\n",
    "\n",
    "* A**n argument is the value that is sent to the function when it is called.**"
   ]
  },
  {
   "cell_type": "markdown",
   "metadata": {},
   "source": [
    "**we have 3 types functions in python**"
   ]
  },
  {
   "cell_type": "markdown",
   "metadata": {},
   "source": [
    "**Built-in function :-** Python predefined functions that are readily available for use like min() , max() , sum() , print() etc.\n",
    "\n",
    "**User-Defined Functions:-** Function that we define ourselves to perform a specific task.\n",
    "\n",
    "**Anonymous functions :** Function that is defined without a name. Anonymous functions are also called as lambda functions. They are not declared with the def keyword."
   ]
  },
  {
   "cell_type": "code",
   "execution_count": 1,
   "metadata": {},
   "outputs": [
    {
     "data": {
      "text/plain": [
       "[1, 2, 4, 55, 65, 44, 35, 66, 75]"
      ]
     },
     "execution_count": 1,
     "metadata": {},
     "output_type": "execute_result"
    }
   ],
   "source": [
    "jagadeesh_list1=[1,2,4,55,65,44,35,66,75]\n",
    "jagadeesh_list1"
   ]
  },
  {
   "cell_type": "code",
   "execution_count": 2,
   "metadata": {},
   "outputs": [
    {
     "data": {
      "text/plain": [
       "1"
      ]
     },
     "execution_count": 2,
     "metadata": {},
     "output_type": "execute_result"
    }
   ],
   "source": [
    "min(jagadeesh_list1)"
   ]
  },
  {
   "cell_type": "code",
   "execution_count": 3,
   "metadata": {},
   "outputs": [
    {
     "data": {
      "text/plain": [
       "75"
      ]
     },
     "execution_count": 3,
     "metadata": {},
     "output_type": "execute_result"
    }
   ],
   "source": [
    "max(jagadeesh_list1)"
   ]
  },
  {
   "cell_type": "code",
   "execution_count": 4,
   "metadata": {},
   "outputs": [
    {
     "data": {
      "text/plain": [
       "347"
      ]
     },
     "execution_count": 4,
     "metadata": {},
     "output_type": "execute_result"
    }
   ],
   "source": [
    "sum(jagadeesh_list1)"
   ]
  },
  {
   "cell_type": "code",
   "execution_count": 5,
   "metadata": {},
   "outputs": [],
   "source": [
    "#user defined"
   ]
  },
  {
   "cell_type": "code",
   "execution_count": 6,
   "metadata": {},
   "outputs": [],
   "source": [
    "def student_details(name,age,gender):\n",
    "    print('Name-',name)\n",
    "    print('Age-',age)\n",
    "    print('gender-',gender)"
   ]
  },
  {
   "cell_type": "code",
   "execution_count": 7,
   "metadata": {},
   "outputs": [
    {
     "name": "stdout",
     "output_type": "stream",
     "text": [
      "Name- Baman Jagadeesh\n",
      "Age- 23\n",
      "gender- Male\n"
     ]
    }
   ],
   "source": [
    "student_details('Baman Jagadeesh',23,'Male')"
   ]
  },
  {
   "cell_type": "code",
   "execution_count": 8,
   "metadata": {},
   "outputs": [
    {
     "name": "stdout",
     "output_type": "stream",
     "text": [
      "100\n"
     ]
    }
   ],
   "source": [
    "var1 = 100 # Variable with Global scope.\n",
    "def myfunc():\n",
    "    var1 = 99 # Local scope print(var1)\n",
    "myfunc()\n",
    "print(var1) # The original value of var1 (100) will be retained due to global scope"
   ]
  },
  {
   "cell_type": "code",
   "execution_count": 9,
   "metadata": {},
   "outputs": [
    {
     "data": {
      "text/plain": [
       "[1, 2, 4, 55, 65, 44, 35, 66, 75]"
      ]
     },
     "execution_count": 9,
     "metadata": {},
     "output_type": "execute_result"
    }
   ],
   "source": [
    "jagadeesh_list1"
   ]
  },
  {
   "cell_type": "code",
   "execution_count": 10,
   "metadata": {},
   "outputs": [],
   "source": [
    "def my_list(list1):\n",
    "    del list1[0]"
   ]
  },
  {
   "cell_type": "code",
   "execution_count": 11,
   "metadata": {},
   "outputs": [],
   "source": [
    "my_list(jagadeesh_list1)"
   ]
  },
  {
   "cell_type": "code",
   "execution_count": 12,
   "metadata": {},
   "outputs": [
    {
     "data": {
      "text/plain": [
       "[2, 4, 55, 65, 44, 35, 66, 75]"
      ]
     },
     "execution_count": 12,
     "metadata": {},
     "output_type": "execute_result"
    }
   ],
   "source": [
    "jagadeesh_list1"
   ]
  },
  {
   "cell_type": "code",
   "execution_count": 13,
   "metadata": {},
   "outputs": [],
   "source": [
    "#sum of natural numbers\n",
    "def sum(num):\n",
    "    if num==0:\n",
    "        return 0\n",
    "    else:\n",
    "        return num+sum(num-1)"
   ]
  },
  {
   "cell_type": "code",
   "execution_count": 14,
   "metadata": {},
   "outputs": [
    {
     "data": {
      "text/plain": [
       "21"
      ]
     },
     "execution_count": 14,
     "metadata": {},
     "output_type": "execute_result"
    }
   ],
   "source": [
    "sum(6)"
   ]
  },
  {
   "cell_type": "code",
   "execution_count": 15,
   "metadata": {},
   "outputs": [],
   "source": [
    "#product of n natural numbers\n",
    "def product(num):\n",
    "    if num ==1:\n",
    "        return 1\n",
    "    else:\n",
    "        return num *product(num-1)"
   ]
  },
  {
   "cell_type": "code",
   "execution_count": 16,
   "metadata": {},
   "outputs": [
    {
     "data": {
      "text/plain": [
       "720"
      ]
     },
     "execution_count": 16,
     "metadata": {},
     "output_type": "execute_result"
    }
   ],
   "source": [
    "product(6)"
   ]
  },
  {
   "cell_type": "code",
   "execution_count": 17,
   "metadata": {},
   "outputs": [
    {
     "name": "stdout",
     "output_type": "stream",
     "text": [
      "0\n",
      "1\n",
      "1\n",
      "2\n",
      "3\n",
      "5\n",
      "8\n",
      "13\n"
     ]
    }
   ],
   "source": [
    "def fiboacci(num): \n",
    "    if num <= 1: \n",
    "        return num\n",
    "    if num == 2: \n",
    "        return 1\n",
    "    else: \n",
    "        return(fiboacci(num-1) + fiboacci(num-2)) \n",
    "    nums = int(input(\"How many fibonacci numbers you want to generate -\"))\n",
    "    \n",
    "    \n",
    "    \n",
    "    \n",
    "for i in range(8): \n",
    "    print(fiboacci(i)) # Generate Fibonacci series"
   ]
  },
  {
   "cell_type": "markdown",
   "metadata": {},
   "source": [
    "**args & kwargs**"
   ]
  },
  {
   "cell_type": "markdown",
   "metadata": {},
   "source": [
    "***args**\n",
    "\n",
    "* When we **are not sure about the number of arguments being passed to a function** then we can use ***args as function** parameter. *args **allow us to pass the variable number of Non Keyword Arguments to function.** We can simply use an asterisk * before the parameter name to pass variable length arguments. **The arguments are always passed as a tuple.** We can **rename it to anything as long as it is preceded by a single asterisk (*).** It's best practice to keep naming it args to make it immediately recognizable.\n",
    "\n",
    "\n",
    "****kwargs**\n",
    "\n",
    "* **kwargs **allows us to pass the variable number of Keyword Arguments to the function.** We can simply use an **double asterisk** ** before the parameter name to pass variable length arguments. **The arguments are passed as a dictionary.** We can rename it to anything as long as it is preceded by a double asterisk (**). **It's best practice to keep naming it kwargs to make it immediately recognizable.**"
   ]
  },
  {
   "cell_type": "code",
   "execution_count": 2,
   "metadata": {},
   "outputs": [
    {
     "name": "stdout",
     "output_type": "stream",
     "text": [
      "6\n"
     ]
    }
   ],
   "source": [
    "def add1(*args): \n",
    "    return sum(args)\n",
    "print(add1(1,2,3))"
   ]
  },
  {
   "cell_type": "code",
   "execution_count": 1,
   "metadata": {},
   "outputs": [
    {
     "name": "stdout",
     "output_type": "stream",
     "text": [
      "6\n",
      "10\n",
      "15\n",
      "21\n",
      "28\n"
     ]
    }
   ],
   "source": [
    "def add(*args): \n",
    "    return sum(args)\n",
    "print(add(1,2,3)) \n",
    "print(add(1,2,3,4)) \n",
    "print(add(1,2,3,4,5)) \n",
    "print(add(1,2,3,4,5,6)) \n",
    "print(add(1,2,3,4,5,6,7))"
   ]
  },
  {
   "cell_type": "code",
   "execution_count": 26,
   "metadata": {},
   "outputs": [
    {
     "name": "stdout",
     "output_type": "stream",
     "text": [
      "('jagadeesh', 7680, 9609, 19, 'India', 'english')\n"
     ]
    }
   ],
   "source": [
    "def UserDetails(*args): \n",
    "    print(args)\n",
    "UserDetails('jagadeesh' , 7680 , 9609 , 19 , 'India' , 'english')\n",
    "\n",
    "#For the above example we have no idea about the parameters passed e.g 7412 , 41102 , 33 etc. \n",
    "# In such cases we can take help of Keyworded arguments (**kwargs) "
   ]
  },
  {
   "cell_type": "code",
   "execution_count": 27,
   "metadata": {},
   "outputs": [
    {
     "name": "stdout",
     "output_type": "stream",
     "text": [
      "{'Name': 'Jagadeesh', 'ID': 7680, 'Pincode': 9609, 'Age': 19, 'Country': 'India', 'Language': 'english'}\n"
     ]
    }
   ],
   "source": [
    "def UserDetails(**kwargs): \n",
    "    print(kwargs)\n",
    "UserDetails(Name='Jagadeesh' , ID=7680 , Pincode=9609 , Age= 19 , Country= 'India' , Language= 'english')"
   ]
  },
  {
   "cell_type": "code",
   "execution_count": 28,
   "metadata": {},
   "outputs": [
    {
     "name": "stdout",
     "output_type": "stream",
     "text": [
      "Name :- Jagadeesh\n",
      "ID :- 7680\n",
      "Pincode :- 9609\n",
      "Age :- 19\n",
      "Country :- India\n",
      "Language :- english\n"
     ]
    }
   ],
   "source": [
    "def UserDetails(**kwargs): \n",
    "    for key,val in kwargs.items(): \n",
    "        print(\"{} :- {}\".format(key,val))\n",
    "UserDetails(Name='Jagadeesh' , ID=7680 , Pincode=9609 , Age= 19 , Country= 'India' , Language= 'english')"
   ]
  },
  {
   "cell_type": "code",
   "execution_count": 31,
   "metadata": {},
   "outputs": [
    {
     "name": "stdout",
     "output_type": "stream",
     "text": [
      "Name :- Jagadeesh\n",
      "ID :- 7680\n",
      "Pincode :- 9609\n",
      "Age :- 19\n",
      "Country :- India\n",
      "Language :- english\n"
     ]
    }
   ],
   "source": [
    "mydict = {'Name':'Jagadeesh' , 'ID':7680 , 'Pincode':9609 , 'Age':19 , 'Country':'India' , 'Language':'english'} \n",
    "UserDetails(**mydict) #as we know that,**kwargs takes dict as arguments, whereas args takes tuple"
   ]
  },
  {
   "cell_type": "markdown",
   "metadata": {},
   "source": [
    "**Recursion**\n",
    "\n",
    "* Python also accepts function recursion, **which means a defined function can call itself.**"
   ]
  },
  {
   "cell_type": "code",
   "execution_count": 38,
   "metadata": {},
   "outputs": [],
   "source": [
    "def recursion1(num):\n",
    "    if num>0:\n",
    "        return num+recursion1(num-1)\n",
    "    else:\n",
    "        return 0\n",
    "    return result"
   ]
  },
  {
   "cell_type": "code",
   "execution_count": 39,
   "metadata": {},
   "outputs": [
    {
     "data": {
      "text/plain": [
       "36"
      ]
     },
     "execution_count": 39,
     "metadata": {},
     "output_type": "execute_result"
    }
   ],
   "source": [
    "recursion1(8)"
   ]
  },
  {
   "cell_type": "markdown",
   "metadata": {},
   "source": [
    "**lambda function**\n",
    "\n",
    "* A lambda function is an **anonymous function (function without a name).**\n",
    "\n",
    "*  lambda function **can take any number of arguments**, but can **only have one expression.**\n",
    "\n",
    "* We use lambda functions when **we require a nameless function for a short period of time**"
   ]
  },
  {
   "cell_type": "code",
   "execution_count": 40,
   "metadata": {},
   "outputs": [
    {
     "name": "stdout",
     "output_type": "stream",
     "text": [
      "15\n"
     ]
    }
   ],
   "source": [
    "jagadeesh_lambda=lambda x: x+10           #this lambda function add 10 to each given input\n",
    "print(jagadeesh_lambda(5))"
   ]
  },
  {
   "cell_type": "code",
   "execution_count": 49,
   "metadata": {},
   "outputs": [
    {
     "name": "stdout",
     "output_type": "stream",
     "text": [
      "30\n"
     ]
    }
   ],
   "source": [
    "product = lambda a, b : a * b \n",
    "print(product(5, 6))"
   ]
  },
  {
   "cell_type": "code",
   "execution_count": 5,
   "metadata": {},
   "outputs": [
    {
     "data": {
      "text/plain": [
       "9"
      ]
     },
     "execution_count": 5,
     "metadata": {},
     "output_type": "execute_result"
    }
   ],
   "source": [
    "args_example=(lambda *args:sum(args))\n",
    "args_example(2,4,3)"
   ]
  },
  {
   "cell_type": "code",
   "execution_count": 53,
   "metadata": {},
   "outputs": [],
   "source": [
    "#anthing which related to *args not coming in this."
   ]
  },
  {
   "cell_type": "code",
   "execution_count": 6,
   "metadata": {},
   "outputs": [],
   "source": [
    "# User defined function to find product of numbers \n",
    "def product(nums): \n",
    "    total = 1 \n",
    "    for i in nums: \n",
    "        total *= i\n",
    "        return total"
   ]
  },
  {
   "cell_type": "code",
   "execution_count": 8,
   "metadata": {},
   "outputs": [
    {
     "ename": "TypeError",
     "evalue": "'int' object is not iterable",
     "output_type": "error",
     "traceback": [
      "\u001b[1;31m---------------------------------------------------------------------------\u001b[0m",
      "\u001b[1;31mTypeError\u001b[0m                                 Traceback (most recent call last)",
      "\u001b[1;32m<ipython-input-8-e7cdcbf72761>\u001b[0m in \u001b[0;36m<module>\u001b[1;34m\u001b[0m\n\u001b[1;32m----> 1\u001b[1;33m \u001b[0mproduct\u001b[0m\u001b[1;33m(\u001b[0m\u001b[1;36m3\u001b[0m\u001b[1;33m)\u001b[0m\u001b[1;33m\u001b[0m\u001b[1;33m\u001b[0m\u001b[0m\n\u001b[0m",
      "\u001b[1;32m<ipython-input-6-f482ab137a7e>\u001b[0m in \u001b[0;36mproduct\u001b[1;34m(nums)\u001b[0m\n\u001b[0;32m      2\u001b[0m \u001b[1;32mdef\u001b[0m \u001b[0mproduct\u001b[0m\u001b[1;33m(\u001b[0m\u001b[0mnums\u001b[0m\u001b[1;33m)\u001b[0m\u001b[1;33m:\u001b[0m\u001b[1;33m\u001b[0m\u001b[1;33m\u001b[0m\u001b[0m\n\u001b[0;32m      3\u001b[0m     \u001b[0mtotal\u001b[0m \u001b[1;33m=\u001b[0m \u001b[1;36m1\u001b[0m\u001b[1;33m\u001b[0m\u001b[1;33m\u001b[0m\u001b[0m\n\u001b[1;32m----> 4\u001b[1;33m     \u001b[1;32mfor\u001b[0m \u001b[0mi\u001b[0m \u001b[1;32min\u001b[0m \u001b[0mnums\u001b[0m\u001b[1;33m:\u001b[0m\u001b[1;33m\u001b[0m\u001b[1;33m\u001b[0m\u001b[0m\n\u001b[0m\u001b[0;32m      5\u001b[0m         \u001b[0mtotal\u001b[0m \u001b[1;33m*=\u001b[0m \u001b[0mi\u001b[0m\u001b[1;33m\u001b[0m\u001b[1;33m\u001b[0m\u001b[0m\n\u001b[0;32m      6\u001b[0m         \u001b[1;32mreturn\u001b[0m \u001b[0mtotal\u001b[0m\u001b[1;33m\u001b[0m\u001b[1;33m\u001b[0m\u001b[0m\n",
      "\u001b[1;31mTypeError\u001b[0m: 'int' object is not iterable"
     ]
    }
   ],
   "source": [
    "product(3)"
   ]
  },
  {
   "cell_type": "code",
   "execution_count": 43,
   "metadata": {},
   "outputs": [
    {
     "name": "stdout",
     "output_type": "stream",
     "text": [
      "22\n"
     ]
    }
   ],
   "source": [
    "def myfunc(n):\n",
    "    return lambda a : a * n\n",
    "\n",
    "mydoubler = myfunc(2)\n",
    "\n",
    "print(mydoubler(11))"
   ]
  },
  {
   "cell_type": "markdown",
   "metadata": {},
   "source": [
    "**Filter**\n",
    "\n",
    "* It is used to filter **the iterables/sequence as per the conditions.** Filter **function filters the original iterable** and passes the items **that returns True for the function provided to filter.** It is normally **used with Lambda functions to filter list, tuple, or sets.**\n",
    "\n",
    "**filter() method takes two parameters:**\n",
    "\n",
    "* **function**\n",
    "     - function tests if elements of an iterable returns true or false \n",
    "* **iterable**\n",
    "     - Sequence which needs to be filtered, could be sets, lists, tuples, or any iterators"
   ]
  },
  {
   "cell_type": "code",
   "execution_count": 45,
   "metadata": {},
   "outputs": [
    {
     "data": {
      "text/plain": [
       "[2, 4, 55, 65, 44, 35, 66, 75]"
      ]
     },
     "execution_count": 45,
     "metadata": {},
     "output_type": "execute_result"
    }
   ],
   "source": [
    "jagadeesh_list1"
   ]
  },
  {
   "cell_type": "code",
   "execution_count": 59,
   "metadata": {},
   "outputs": [
    {
     "data": {
      "text/plain": [
       "[55, 65, 35, 75]"
      ]
     },
     "execution_count": 59,
     "metadata": {},
     "output_type": "execute_result"
    }
   ],
   "source": [
    "odd_num = list(filter(lambda n: n%2 ==1 ,jagadeesh_list1))\n",
    "odd_num"
   ]
  },
  {
   "cell_type": "code",
   "execution_count": 64,
   "metadata": {},
   "outputs": [
    {
     "data": {
      "text/plain": [
       "[55, 65, 35, 75]"
      ]
     },
     "execution_count": 64,
     "metadata": {},
     "output_type": "execute_result"
    }
   ],
   "source": [
    "#same thing in user defined function\n",
    "def odd(n): \n",
    "    if n%2 ==1: \n",
    "        return True \n",
    "    else: \n",
    "        return False\n",
    "odd_num = list(filter(odd,jagadeesh_list1)) # This Filter function filters list1 and passes all odd numbers to filter().\n",
    "odd_num"
   ]
  },
  {
   "cell_type": "markdown",
   "metadata": {},
   "source": [
    "**Map**\n",
    "\n",
    "* The **map() function** applies a given function to each item of an iterable (list, tuple etc.) and **returns a list of the results.** \n",
    "\n",
    "* **map() function takes two Parameters :**\n",
    "\n",
    "* **function :**\n",
    "       -The function to execute for each item of given iterable. iterable : It is a iterable which is to be mapped.\n",
    "       \n",
    "* **Returns :**\n",
    "      -Returns a list of the results after applying the given function to each item of a given iterable (list, tuple etc.)"
   ]
  },
  {
   "cell_type": "code",
   "execution_count": 60,
   "metadata": {},
   "outputs": [
    {
     "data": {
      "text/plain": [
       "[110, 130, 70, 150]"
      ]
     },
     "execution_count": 60,
     "metadata": {},
     "output_type": "execute_result"
    }
   ],
   "source": [
    "doubles = list(map(lambda n:n*2,odd_num)) # This map function will double all items of the list using lambda function.\n",
    "doubles"
   ]
  },
  {
   "cell_type": "code",
   "execution_count": 62,
   "metadata": {},
   "outputs": [
    {
     "data": {
      "text/plain": [
       "[110, 130, 70, 150]"
      ]
     },
     "execution_count": 62,
     "metadata": {},
     "output_type": "execute_result"
    }
   ],
   "source": [
    "#same in user defind fiunction\n",
    "def twice(n): \n",
    "    return n*2\n",
    "doubles = list(map(twice,odd_num)) # The map function will apply user defined \"twice()\" function on all items of the list\n",
    "doubles"
   ]
  },
  {
   "cell_type": "markdown",
   "metadata": {},
   "source": [
    "**Reduce**\n",
    "\n",
    "* The **reduce() function** is defined in the functools python module.The reduce() function **receives two arguments**, a **function and an iterable**. However, **it doesn't return another iterable, instead it returns a single value.**\n",
    "\n",
    "\n",
    "* **Working:**\n",
    "* 1) Apply a function to the **first two items in an iterable and generate a partial result.**\n",
    "\n",
    "* 2) The function is **then called again with the result obtained in step 1 and the next value in the sequence.** This process keeps on repeating **until there are items in the sequence.** \n",
    "* 3) The final returned result is **returned and printed on console.**"
   ]
  },
  {
   "cell_type": "code",
   "execution_count": 67,
   "metadata": {},
   "outputs": [
    {
     "data": {
      "text/plain": [
       "346"
      ]
     },
     "execution_count": 67,
     "metadata": {},
     "output_type": "execute_result"
    }
   ],
   "source": [
    "#The below reduce() function will perform sum of all items in the list using lambda function. \n",
    "sum_all = reduce(lambda a,b : a+b,jagadeesh_list1) \n",
    "sum_all"
   ]
  },
  {
   "cell_type": "code",
   "execution_count": 66,
   "metadata": {},
   "outputs": [
    {
     "data": {
      "text/plain": [
       "346"
      ]
     },
     "execution_count": 66,
     "metadata": {},
     "output_type": "execute_result"
    }
   ],
   "source": [
    "#same thing in user defined function\n",
    "\n",
    "from functools import reduce\n",
    "def add(a,b):\n",
    "    return a+b\n",
    "sum_all = reduce(add,jagadeesh_list1) # This reduce function will perform sum of all items in the list using user defined \n",
    "                                                                                                               #\"add()\n",
    "sum_all"
   ]
  },
  {
   "cell_type": "code",
   "execution_count": 68,
   "metadata": {},
   "outputs": [
    {
     "data": {
      "text/plain": [
       "460"
      ]
     },
     "execution_count": 68,
     "metadata": {},
     "output_type": "execute_result"
    }
   ],
   "source": [
    "# Putting all together\n",
    "sum_all = reduce(lambda a,b : a+b,list(map(lambda n:n*2,list(filter(lambda n: n%2 ==1 ,jagadeesh_list1)))))\n",
    "sum_all"
   ]
  },
  {
   "cell_type": "code",
   "execution_count": null,
   "metadata": {},
   "outputs": [],
   "source": []
  }
 ],
 "metadata": {
  "kernelspec": {
   "display_name": "Python 3",
   "language": "python",
   "name": "python3"
  },
  "language_info": {
   "codemirror_mode": {
    "name": "ipython",
    "version": 3
   },
   "file_extension": ".py",
   "mimetype": "text/x-python",
   "name": "python",
   "nbconvert_exporter": "python",
   "pygments_lexer": "ipython3",
   "version": "3.7.4"
  }
 },
 "nbformat": 4,
 "nbformat_minor": 2
}
