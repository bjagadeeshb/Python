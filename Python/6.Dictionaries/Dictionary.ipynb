{
 "cells": [
  {
   "cell_type": "markdown",
   "metadata": {},
   "source": [
    "**Dictionary**\n",
    "\n",
    "* Dictionaries are used to **store data values** in **key:value pairs.**\n",
    "\n",
    "* A dictionary is a collection which is **ordered**, **changeable** and does **not allow duplicates.**"
   ]
  },
  {
   "cell_type": "markdown",
   "metadata": {},
   "source": [
    "**Dictionaries are written with curly brackets, and have keys and values:**"
   ]
  },
  {
   "cell_type": "code",
   "execution_count": 5,
   "metadata": {},
   "outputs": [],
   "source": [
    "jagadeesh_dict1={'jagadeesh':96,'narendersir':'collection_of_sourse'}"
   ]
  },
  {
   "cell_type": "code",
   "execution_count": 6,
   "metadata": {},
   "outputs": [
    {
     "data": {
      "text/plain": [
       "{'jagadeesh': 96, 'narendersir': 'collection_of_sourse'}"
      ]
     },
     "execution_count": 6,
     "metadata": {},
     "output_type": "execute_result"
    }
   ],
   "source": [
    "jagadeesh_dict1"
   ]
  },
  {
   "cell_type": "code",
   "execution_count": 7,
   "metadata": {},
   "outputs": [],
   "source": [
    "#key in dict are unique, values don't need be unique"
   ]
  },
  {
   "cell_type": "code",
   "execution_count": 8,
   "metadata": {},
   "outputs": [
    {
     "data": {
      "text/plain": [
       "dict"
      ]
     },
     "execution_count": 8,
     "metadata": {},
     "output_type": "execute_result"
    }
   ],
   "source": [
    "type(jagadeesh_dict1)"
   ]
  },
  {
   "cell_type": "markdown",
   "metadata": {},
   "source": [
    "**Changeable**\n",
    "\n",
    "* Dictionaries are changeable, meaning that we can change, add or remove items after the dictionary has been created."
   ]
  },
  {
   "cell_type": "markdown",
   "metadata": {},
   "source": [
    "**Adding Items**\n",
    "* Adding an item to the dictionary is done by using a new index key and assigning a value to it:"
   ]
  },
  {
   "cell_type": "code",
   "execution_count": 9,
   "metadata": {},
   "outputs": [],
   "source": [
    "jagadeesh_dict1[1]=997"
   ]
  },
  {
   "cell_type": "code",
   "execution_count": 10,
   "metadata": {},
   "outputs": [
    {
     "data": {
      "text/plain": [
       "{'jagadeesh': 96, 'narendersir': 'collection_of_sourse', 1: 997}"
      ]
     },
     "execution_count": 10,
     "metadata": {},
     "output_type": "execute_result"
    }
   ],
   "source": [
    "jagadeesh_dict1"
   ]
  },
  {
   "cell_type": "markdown",
   "metadata": {},
   "source": [
    "**len()**"
   ]
  },
  {
   "cell_type": "code",
   "execution_count": 12,
   "metadata": {},
   "outputs": [
    {
     "data": {
      "text/plain": [
       "3"
      ]
     },
     "execution_count": 12,
     "metadata": {},
     "output_type": "execute_result"
    }
   ],
   "source": [
    "len(jagadeesh_dict1)"
   ]
  },
  {
   "cell_type": "markdown",
   "metadata": {},
   "source": [
    "**Accessing Items**\n",
    "* You can access the items of a dictionary by referring to its key name, inside square brackets:"
   ]
  },
  {
   "cell_type": "markdown",
   "metadata": {},
   "source": [
    "**There is also a method called get() that will give you the same result:**"
   ]
  },
  {
   "cell_type": "code",
   "execution_count": 14,
   "metadata": {},
   "outputs": [
    {
     "data": {
      "text/plain": [
       "'collection_of_sourse'"
      ]
     },
     "execution_count": 14,
     "metadata": {},
     "output_type": "execute_result"
    }
   ],
   "source": [
    "jagadeesh_dict1['narendersir']"
   ]
  },
  {
   "cell_type": "code",
   "execution_count": 15,
   "metadata": {},
   "outputs": [
    {
     "data": {
      "text/plain": [
       "'collection_of_sourse'"
      ]
     },
     "execution_count": 15,
     "metadata": {},
     "output_type": "execute_result"
    }
   ],
   "source": [
    "jagadeesh_dict1.get('narendersir')"
   ]
  },
  {
   "cell_type": "markdown",
   "metadata": {},
   "source": [
    "**Get Keys**\n",
    "\n",
    "* The keys() method will return a list of all the keys in the dictionary."
   ]
  },
  {
   "cell_type": "code",
   "execution_count": 17,
   "metadata": {},
   "outputs": [
    {
     "data": {
      "text/plain": [
       "dict_keys(['jagadeesh', 'narendersir', 1])"
      ]
     },
     "execution_count": 17,
     "metadata": {},
     "output_type": "execute_result"
    }
   ],
   "source": [
    "jagadeesh_dict1.keys()"
   ]
  },
  {
   "cell_type": "markdown",
   "metadata": {},
   "source": [
    "**The list of the keys is a view of the dictionary, meaning that any changes done to the dictionary will be reflected in the keys list.**"
   ]
  },
  {
   "cell_type": "markdown",
   "metadata": {},
   "source": [
    "**get values()**\n",
    "* The values method will return a list of all the values in the dictionary."
   ]
  },
  {
   "cell_type": "code",
   "execution_count": 18,
   "metadata": {},
   "outputs": [
    {
     "data": {
      "text/plain": [
       "dict_values([96, 'collection_of_sourse', 997])"
      ]
     },
     "execution_count": 18,
     "metadata": {},
     "output_type": "execute_result"
    }
   ],
   "source": [
    "jagadeesh_dict1.values()"
   ]
  },
  {
   "cell_type": "markdown",
   "metadata": {},
   "source": [
    "**Change Values**\n",
    "* You can change the value of a specific item by referring to its key name:"
   ]
  },
  {
   "cell_type": "code",
   "execution_count": 20,
   "metadata": {},
   "outputs": [
    {
     "data": {
      "text/plain": [
       "{'jagadeesh': 96, 'narendersir': 'collection_of_sourse', 1: 997}"
      ]
     },
     "execution_count": 20,
     "metadata": {},
     "output_type": "execute_result"
    }
   ],
   "source": [
    "jagadeesh_dict1"
   ]
  },
  {
   "cell_type": "code",
   "execution_count": 21,
   "metadata": {},
   "outputs": [],
   "source": [
    "jagadeesh_dict1['jagadeesh']=8"
   ]
  },
  {
   "cell_type": "code",
   "execution_count": 22,
   "metadata": {},
   "outputs": [
    {
     "data": {
      "text/plain": [
       "{'jagadeesh': 8, 'narendersir': 'collection_of_sourse', 1: 997}"
      ]
     },
     "execution_count": 22,
     "metadata": {},
     "output_type": "execute_result"
    }
   ],
   "source": [
    "jagadeesh_dict1"
   ]
  },
  {
   "cell_type": "markdown",
   "metadata": {},
   "source": [
    "**Update Dictionary**\n",
    "\n",
    "* The **update() method** will **update** the dictionary **with the items from the given argument.**\n",
    "\n",
    "* The argument **must be a dictionary**, or **an iterable object with key:value pairs.**"
   ]
  },
  {
   "cell_type": "code",
   "execution_count": 23,
   "metadata": {},
   "outputs": [],
   "source": [
    "#updating number 8\n",
    "jagadeesh_dict1.update({'jagadeesh': 808})"
   ]
  },
  {
   "cell_type": "code",
   "execution_count": 24,
   "metadata": {},
   "outputs": [
    {
     "data": {
      "text/plain": [
       "{'jagadeesh': 808, 'narendersir': 'collection_of_sourse', 1: 997}"
      ]
     },
     "execution_count": 24,
     "metadata": {},
     "output_type": "execute_result"
    }
   ],
   "source": [
    "jagadeesh_dict1"
   ]
  },
  {
   "cell_type": "markdown",
   "metadata": {},
   "source": [
    "**Removing Items**\n",
    "\n",
    "* There are several methods to remove items from a dictionary:"
   ]
  },
  {
   "cell_type": "markdown",
   "metadata": {},
   "source": [
    "* The **pop() method** removes the item with the **specified key name:**"
   ]
  },
  {
   "cell_type": "code",
   "execution_count": 26,
   "metadata": {},
   "outputs": [
    {
     "data": {
      "text/plain": [
       "997"
      ]
     },
     "execution_count": 26,
     "metadata": {},
     "output_type": "execute_result"
    }
   ],
   "source": [
    "jagadeesh_dict1.pop(1)"
   ]
  },
  {
   "cell_type": "code",
   "execution_count": 27,
   "metadata": {},
   "outputs": [
    {
     "data": {
      "text/plain": [
       "{'jagadeesh': 808, 'narendersir': 'collection_of_sourse'}"
      ]
     },
     "execution_count": 27,
     "metadata": {},
     "output_type": "execute_result"
    }
   ],
   "source": [
    "jagadeesh_dict1"
   ]
  },
  {
   "cell_type": "code",
   "execution_count": 28,
   "metadata": {},
   "outputs": [],
   "source": [
    "jagadeesh_dict1['CBIT']='HYD'"
   ]
  },
  {
   "cell_type": "code",
   "execution_count": 29,
   "metadata": {},
   "outputs": [
    {
     "data": {
      "text/plain": [
       "{'jagadeesh': 808, 'narendersir': 'collection_of_sourse', 'CBIT': 'HYD'}"
      ]
     },
     "execution_count": 29,
     "metadata": {},
     "output_type": "execute_result"
    }
   ],
   "source": [
    "jagadeesh_dict1"
   ]
  },
  {
   "cell_type": "markdown",
   "metadata": {},
   "source": [
    "* The **popitem() method** removes the **last inserted item** "
   ]
  },
  {
   "cell_type": "code",
   "execution_count": 30,
   "metadata": {},
   "outputs": [
    {
     "data": {
      "text/plain": [
       "('CBIT', 'HYD')"
      ]
     },
     "execution_count": 30,
     "metadata": {},
     "output_type": "execute_result"
    }
   ],
   "source": [
    "jagadeesh_dict1.popitem()"
   ]
  },
  {
   "cell_type": "code",
   "execution_count": 31,
   "metadata": {},
   "outputs": [
    {
     "data": {
      "text/plain": [
       "{'jagadeesh': 808, 'narendersir': 'collection_of_sourse'}"
      ]
     },
     "execution_count": 31,
     "metadata": {},
     "output_type": "execute_result"
    }
   ],
   "source": [
    "jagadeesh_dict1"
   ]
  },
  {
   "cell_type": "markdown",
   "metadata": {},
   "source": [
    "* The **del** keyword **removes** the **item with the specified key name**\n",
    "* in list & tauple,set we use del for deleting them coplitly\n",
    "* even in dict The del keyword can also delete the dictionary completely:"
   ]
  },
  {
   "cell_type": "code",
   "execution_count": 42,
   "metadata": {},
   "outputs": [],
   "source": [
    "del jagadeesh_dict1['jagadeesh']"
   ]
  },
  {
   "cell_type": "code",
   "execution_count": 43,
   "metadata": {},
   "outputs": [
    {
     "data": {
      "text/plain": [
       "{'narendersir': 'collection_of_sourse'}"
      ]
     },
     "execution_count": 43,
     "metadata": {},
     "output_type": "execute_result"
    }
   ],
   "source": [
    "jagadeesh_dict1"
   ]
  },
  {
   "cell_type": "code",
   "execution_count": 44,
   "metadata": {},
   "outputs": [],
   "source": [
    "del jagadeesh_dict1"
   ]
  },
  {
   "cell_type": "code",
   "execution_count": 45,
   "metadata": {},
   "outputs": [
    {
     "ename": "NameError",
     "evalue": "name 'jagadeesh_dict1' is not defined",
     "output_type": "error",
     "traceback": [
      "\u001b[1;31m---------------------------------------------------------------------------\u001b[0m",
      "\u001b[1;31mNameError\u001b[0m                                 Traceback (most recent call last)",
      "\u001b[1;32m<ipython-input-45-e3210acd8c8b>\u001b[0m in \u001b[0;36m<module>\u001b[1;34m\u001b[0m\n\u001b[1;32m----> 1\u001b[1;33m \u001b[0mjagadeesh_dict1\u001b[0m\u001b[1;33m\u001b[0m\u001b[1;33m\u001b[0m\u001b[0m\n\u001b[0m",
      "\u001b[1;31mNameError\u001b[0m: name 'jagadeesh_dict1' is not defined"
     ]
    }
   ],
   "source": [
    "jagadeesh_dict1"
   ]
  },
  {
   "cell_type": "markdown",
   "metadata": {},
   "source": [
    "**Loop Through a Dictionary**\n",
    "\n",
    "* You can loop through a dictionary by **using a for loop.**\n",
    "\n",
    "* When looping through a dictionary, the **return value** are the **keys of the dictionary,** but there are **methods to return the values as well.**"
   ]
  },
  {
   "cell_type": "code",
   "execution_count": 47,
   "metadata": {},
   "outputs": [
    {
     "data": {
      "text/plain": [
       "{'CBIT': 'MBA', 'ROLL_NUM': 96}"
      ]
     },
     "execution_count": 47,
     "metadata": {},
     "output_type": "execute_result"
    }
   ],
   "source": [
    "jagadeesh_dict2={'CBIT':'MBA','ROLL_NUM':96}\n",
    "jagadeesh_dict2"
   ]
  },
  {
   "cell_type": "code",
   "execution_count": 49,
   "metadata": {},
   "outputs": [
    {
     "name": "stdout",
     "output_type": "stream",
     "text": [
      "CBIT\n",
      "ROLL_NUM\n"
     ]
    }
   ],
   "source": [
    "for i in jagadeesh_dict2:\n",
    "    print(i)"
   ]
  },
  {
   "cell_type": "markdown",
   "metadata": {},
   "source": [
    "**Print all values in the dictionary, one by one:**"
   ]
  },
  {
   "cell_type": "code",
   "execution_count": 51,
   "metadata": {},
   "outputs": [
    {
     "name": "stdout",
     "output_type": "stream",
     "text": [
      "MBA\n",
      "96\n"
     ]
    }
   ],
   "source": [
    "for i in jagadeesh_dict2:\n",
    "    print(jagadeesh_dict2[i])"
   ]
  },
  {
   "cell_type": "markdown",
   "metadata": {},
   "source": [
    "**Loop through both keys and values, by using the items() method:**"
   ]
  },
  {
   "cell_type": "code",
   "execution_count": 53,
   "metadata": {},
   "outputs": [
    {
     "name": "stdout",
     "output_type": "stream",
     "text": [
      "CBIT MBA\n",
      "ROLL_NUM 96\n"
     ]
    }
   ],
   "source": [
    "for x,y in jagadeesh_dict2.items():\n",
    "    print(x,y)"
   ]
  },
  {
   "cell_type": "markdown",
   "metadata": {},
   "source": [
    "**Nested Dictionaries**\n",
    "\n",
    "* A dictionary can contain dictionaries, this is called nested dictionaries."
   ]
  },
  {
   "cell_type": "code",
   "execution_count": 56,
   "metadata": {},
   "outputs": [],
   "source": [
    "jagadeesh_dict3={'Name':'Jagadeesh'}"
   ]
  },
  {
   "cell_type": "code",
   "execution_count": 67,
   "metadata": {},
   "outputs": [],
   "source": [
    "jagadeesh_dict4={'email':'bjagadeeshb786'}"
   ]
  },
  {
   "cell_type": "code",
   "execution_count": 68,
   "metadata": {},
   "outputs": [],
   "source": [
    "nested_dict={'jagadeesh_dict2':jagadeesh_dict2,\n",
    "            'jagadeesh_dict3':jagadeesh_dict3,\n",
    "            'jagadeesh_dict4':jagadeesh_dict4}"
   ]
  },
  {
   "cell_type": "code",
   "execution_count": 69,
   "metadata": {},
   "outputs": [
    {
     "data": {
      "text/plain": [
       "{'jagadeesh_dict2': {'CBIT': 'MBA', 'ROLL_NUM': 96},\n",
       " 'jagadeesh_dict3': {'Name': 'Jagadeesh'},\n",
       " 'jagadeesh_dict4': {'email': 'bjagadeeshb786'}}"
      ]
     },
     "execution_count": 69,
     "metadata": {},
     "output_type": "execute_result"
    }
   ],
   "source": [
    "nested_dict"
   ]
  },
  {
   "cell_type": "markdown",
   "metadata": {},
   "source": [
    "**Dictionary Methods**\n",
    "\n",
    "* Python has a set of built-in methods that you can use on dictionaries"
   ]
  },
  {
   "cell_type": "markdown",
   "metadata": {},
   "source": [
    "**clear()**\n",
    "* Removes all the elements from the dictionary\n",
    "\n",
    "**copy()**\t\n",
    "* Returns a copy of the dictionary\n",
    "**fromkeys()**\n",
    "* Returns a dictionary with the specified keys and value\n",
    "\n",
    "**get()**\n",
    "* Returns the value of the specified key\n",
    "\n",
    "**items()**\t\n",
    "* Returns a list containing a tuple for each key value pair\n",
    "\n",
    "**keys()**\t\n",
    "* Returns a list containing the dictionary's keys\n",
    "\n",
    "**pop()**\t\n",
    "* Removes the element with the specified key\n",
    "\n",
    "**popitem()**\t\n",
    "* Removes the last inserted key-value pair\n",
    "\n",
    "**setdefault()**\t\n",
    "* Returns the value of the specified key. If the key does not exist: insert the key, with the specified value\n",
    "\n",
    "**update()**\t\n",
    "* Updates the dictionary with the specified key-value pairs\n",
    "\n",
    "**values()**\t\n",
    "* Returns a list of all the values in the dictionary"
   ]
  },
  {
   "cell_type": "markdown",
   "metadata": {},
   "source": [
    "**setdefault()**\n",
    "\n",
    "* The **setdefault() method** returns the **value of the item with the specified key.**\n",
    "\n",
    " If the **key does not exist**, **insert the key, with the specified value,** "
   ]
  },
  {
   "cell_type": "code",
   "execution_count": 72,
   "metadata": {},
   "outputs": [
    {
     "data": {
      "text/plain": [
       "{'CBIT': 'MBA', 'ROLL_NUM': 96}"
      ]
     },
     "execution_count": 72,
     "metadata": {},
     "output_type": "execute_result"
    }
   ],
   "source": [
    "jagadeesh_dict2"
   ]
  },
  {
   "cell_type": "code",
   "execution_count": 74,
   "metadata": {},
   "outputs": [
    {
     "data": {
      "text/plain": [
       "'MBA'"
      ]
     },
     "execution_count": 74,
     "metadata": {},
     "output_type": "execute_result"
    }
   ],
   "source": [
    "jagadeesh_dict2.setdefault('CBIT','MBA')"
   ]
  },
  {
   "cell_type": "code",
   "execution_count": 71,
   "metadata": {},
   "outputs": [],
   "source": [
    "#Get the value of the \"color\" item, if the \"color\" item does not exist, insert \"color\" with the value \"white\":"
   ]
  },
  {
   "cell_type": "code",
   "execution_count": 70,
   "metadata": {},
   "outputs": [
    {
     "name": "stdout",
     "output_type": "stream",
     "text": [
      "white\n"
     ]
    }
   ],
   "source": [
    " car = {\n",
    "  \"brand\": \"Ford\",\n",
    "  \"model\": \"Mustang\",\n",
    "  \"year\": 1964\n",
    "}\n",
    "\n",
    "x = car.setdefault(\"color\", \"white\")\n",
    "\n",
    "print(x)"
   ]
  },
  {
   "cell_type": "code",
   "execution_count": null,
   "metadata": {},
   "outputs": [],
   "source": []
  }
 ],
 "metadata": {
  "kernelspec": {
   "display_name": "Python 3",
   "language": "python",
   "name": "python3"
  },
  "language_info": {
   "codemirror_mode": {
    "name": "ipython",
    "version": 3
   },
   "file_extension": ".py",
   "mimetype": "text/x-python",
   "name": "python",
   "nbconvert_exporter": "python",
   "pygments_lexer": "ipython3",
   "version": "3.7.4"
  }
 },
 "nbformat": 4,
 "nbformat_minor": 2
}
