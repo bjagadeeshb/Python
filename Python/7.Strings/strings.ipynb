{
 "cells": [
  {
   "cell_type": "markdown",
   "metadata": {},
   "source": [
    "# Strings"
   ]
  },
  {
   "cell_type": "markdown",
   "metadata": {},
   "source": [
    "* Strings in python are surrounded by either single quotation marks, or double quotation marks."
   ]
  },
  {
   "cell_type": "code",
   "execution_count": 2,
   "metadata": {},
   "outputs": [],
   "source": [
    "jagadeesh_str1='hello everyone'"
   ]
  },
  {
   "cell_type": "code",
   "execution_count": 3,
   "metadata": {},
   "outputs": [
    {
     "name": "stdout",
     "output_type": "stream",
     "text": [
      "hello everyone\n"
     ]
    }
   ],
   "source": [
    "print(jagadeesh_str1)"
   ]
  },
  {
   "cell_type": "code",
   "execution_count": 3,
   "metadata": {},
   "outputs": [
    {
     "data": {
      "text/plain": [
       "str"
      ]
     },
     "execution_count": 3,
     "metadata": {},
     "output_type": "execute_result"
    }
   ],
   "source": [
    "type(jagadeesh_str1)"
   ]
  },
  {
   "cell_type": "markdown",
   "metadata": {},
   "source": [
    "**IMP ABOUT STRINGS**\n",
    "\n",
    "* Slicing Strings\n",
    "* modify Strings\n",
    "* Concatenate Strings\n",
    "* Format Strings\n",
    "* Escape Characters\n",
    "* Strings Methods(we have different methods we will discuess one-by-one)"
   ]
  },
  {
   "cell_type": "markdown",
   "metadata": {},
   "source": [
    "**Slicing Strings**\n",
    "\n",
    "* You can return a range of characters by using the slice syntax.\n",
    "\n",
    "* Specify the start index and the end index, separated by a colon, to return a part of the string.\n"
   ]
  },
  {
   "cell_type": "code",
   "execution_count": 4,
   "metadata": {
    "scrolled": true
   },
   "outputs": [
    {
     "data": {
      "text/plain": [
       "'lo ev'"
      ]
     },
     "execution_count": 4,
     "metadata": {},
     "output_type": "execute_result"
    }
   ],
   "source": [
    "jagadeesh_str1[3:8]        #Note that Slicing takes sequere bracktes only"
   ]
  },
  {
   "cell_type": "code",
   "execution_count": 5,
   "metadata": {},
   "outputs": [
    {
     "data": {
      "text/plain": [
       "'lo everyone'"
      ]
     },
     "execution_count": 5,
     "metadata": {},
     "output_type": "execute_result"
    }
   ],
   "source": [
    "jagadeesh_str1[3:] "
   ]
  },
  {
   "cell_type": "code",
   "execution_count": 6,
   "metadata": {},
   "outputs": [
    {
     "data": {
      "text/plain": [
       "'hello ev'"
      ]
     },
     "execution_count": 6,
     "metadata": {},
     "output_type": "execute_result"
    }
   ],
   "source": [
    "jagadeesh_str1[:8] "
   ]
  },
  {
   "cell_type": "code",
   "execution_count": 7,
   "metadata": {},
   "outputs": [
    {
     "data": {
      "text/plain": [
       "'every'"
      ]
     },
     "execution_count": 7,
     "metadata": {},
     "output_type": "execute_result"
    }
   ],
   "source": [
    "jagadeesh_str1[-8:-3] "
   ]
  },
  {
   "cell_type": "markdown",
   "metadata": {},
   "source": [
    "* Python has a set of built-in methods that you can use on strings.\n",
    "\n",
    "**Upper Case**"
   ]
  },
  {
   "cell_type": "code",
   "execution_count": 8,
   "metadata": {},
   "outputs": [
    {
     "data": {
      "text/plain": [
       "'hello everyone'"
      ]
     },
     "execution_count": 8,
     "metadata": {},
     "output_type": "execute_result"
    }
   ],
   "source": [
    "jagadeesh_str1"
   ]
  },
  {
   "cell_type": "code",
   "execution_count": 9,
   "metadata": {},
   "outputs": [
    {
     "data": {
      "text/plain": [
       "'HELLO EVERYONE'"
      ]
     },
     "execution_count": 9,
     "metadata": {},
     "output_type": "execute_result"
    }
   ],
   "source": [
    "jagadeesh_str1.upper()"
   ]
  },
  {
   "cell_type": "markdown",
   "metadata": {},
   "source": [
    "**Lower Case**"
   ]
  },
  {
   "cell_type": "code",
   "execution_count": 10,
   "metadata": {},
   "outputs": [
    {
     "data": {
      "text/plain": [
       "'hello everyone'"
      ]
     },
     "execution_count": 10,
     "metadata": {},
     "output_type": "execute_result"
    }
   ],
   "source": [
    "jagadeesh_str1.lower()"
   ]
  },
  {
   "cell_type": "markdown",
   "metadata": {},
   "source": [
    "**Remove Whitespace**\n",
    "\n",
    "* Whitespace is the space before and/or after the actual text, and very often you want to remove this space."
   ]
  },
  {
   "cell_type": "markdown",
   "metadata": {},
   "source": [
    "**The strip() method removes any whitespace from the beginning or the end:**\n"
   ]
  },
  {
   "cell_type": "code",
   "execution_count": 18,
   "metadata": {},
   "outputs": [],
   "source": [
    "jagadeesh_str2='   Business Analytics   '"
   ]
  },
  {
   "cell_type": "code",
   "execution_count": 19,
   "metadata": {},
   "outputs": [
    {
     "data": {
      "text/plain": [
       "'Business Analytics'"
      ]
     },
     "execution_count": 19,
     "metadata": {},
     "output_type": "execute_result"
    }
   ],
   "source": [
    "jagadeesh_str2.strip()"
   ]
  },
  {
   "cell_type": "markdown",
   "metadata": {},
   "source": [
    "**Replace String**\n",
    "\n",
    "* The **replace() method** replaces a string with **another string:**"
   ]
  },
  {
   "cell_type": "code",
   "execution_count": 13,
   "metadata": {},
   "outputs": [
    {
     "data": {
      "text/plain": [
       "'   Business analytics   '"
      ]
     },
     "execution_count": 13,
     "metadata": {},
     "output_type": "execute_result"
    }
   ],
   "source": [
    "jagadeesh_str2.replace('A','a')"
   ]
  },
  {
   "cell_type": "markdown",
   "metadata": {},
   "source": [
    "**Split String**\n",
    "\n",
    "* The split() method returns a list where the text between the specified separator becomes the list items.\n",
    "\n",
    "\n",
    "* The split() method splits the string into substrings if it finds instances of the separator:"
   ]
  },
  {
   "cell_type": "code",
   "execution_count": 14,
   "metadata": {},
   "outputs": [
    {
     "name": "stdout",
     "output_type": "stream",
     "text": [
      "['Hello', ' World!']\n"
     ]
    }
   ],
   "source": [
    "jagadeesh_str3 = \"Hello, World!\"\n",
    "print(jagadeesh_str3.split(\",\"))"
   ]
  },
  {
   "cell_type": "code",
   "execution_count": 15,
   "metadata": {},
   "outputs": [
    {
     "data": {
      "text/plain": [
       "['hello', 'everyone']"
      ]
     },
     "execution_count": 15,
     "metadata": {},
     "output_type": "execute_result"
    }
   ],
   "source": [
    "jagadeesh_str1.split()"
   ]
  },
  {
   "cell_type": "markdown",
   "metadata": {},
   "source": [
    "**String Concatenation**\n",
    "\n",
    "* To concatenate, or combine, two strings you can use the + operator."
   ]
  },
  {
   "cell_type": "code",
   "execution_count": 21,
   "metadata": {},
   "outputs": [
    {
     "data": {
      "text/plain": [
       "'   Business Analytics   Hello, World!'"
      ]
     },
     "execution_count": 21,
     "metadata": {},
     "output_type": "execute_result"
    }
   ],
   "source": [
    "jagadeesh_str1+jagadeesh_str3"
   ]
  },
  {
   "cell_type": "markdown",
   "metadata": {},
   "source": [
    "**To add a space between them, add a \" \"**"
   ]
  },
  {
   "cell_type": "code",
   "execution_count": 22,
   "metadata": {},
   "outputs": [
    {
     "data": {
      "text/plain": [
       "'   Business Analytics     Hello, World!'"
      ]
     },
     "execution_count": 22,
     "metadata": {},
     "output_type": "execute_result"
    }
   ],
   "source": [
    "jagadeesh_str1+ \"  \" +jagadeesh_str3"
   ]
  },
  {
   "cell_type": "markdown",
   "metadata": {},
   "source": [
    "**String Format**\n",
    "\n",
    "* As we learned in the Python Variables chapter, **we cannot combine strings and numbers:**"
   ]
  },
  {
   "cell_type": "code",
   "execution_count": 24,
   "metadata": {},
   "outputs": [
    {
     "ename": "TypeError",
     "evalue": "can only concatenate str (not \"int\") to str",
     "output_type": "error",
     "traceback": [
      "\u001b[1;31m---------------------------------------------------------------------------\u001b[0m",
      "\u001b[1;31mTypeError\u001b[0m                                 Traceback (most recent call last)",
      "\u001b[1;32m<ipython-input-24-302e8aefa7f2>\u001b[0m in \u001b[0;36m<module>\u001b[1;34m\u001b[0m\n\u001b[0;32m      1\u001b[0m \u001b[0mjagadeesh_str4\u001b[0m\u001b[1;33m=\u001b[0m\u001b[1;36m96\u001b[0m\u001b[1;33m\u001b[0m\u001b[1;33m\u001b[0m\u001b[0m\n\u001b[1;32m----> 2\u001b[1;33m \u001b[0mjagadeesh_str5\u001b[0m\u001b[1;33m=\u001b[0m\u001b[1;34m'Iam Pursuing MBA and my roll no is'\u001b[0m \u001b[1;33m+\u001b[0m \u001b[0mjagadeesh_str4\u001b[0m\u001b[1;33m\u001b[0m\u001b[1;33m\u001b[0m\u001b[0m\n\u001b[0m",
      "\u001b[1;31mTypeError\u001b[0m: can only concatenate str (not \"int\") to str"
     ]
    }
   ],
   "source": [
    "jagadeesh_str4=96\n",
    "jagadeesh_str5='Iam Pursuing MBA and my roll no is' + jagadeesh_str4"
   ]
  },
  {
   "cell_type": "markdown",
   "metadata": {},
   "source": [
    "* But we can **combine strings** and **numbers** by using the **format() method**\n",
    "\n",
    "* The **format() method** takes the **passed arguments,** formats them, and places them in the string where the **placeholders {} are:**\n",
    "\n",
    "* Use the format() method to insert numbers into strings:"
   ]
  },
  {
   "cell_type": "code",
   "execution_count": 27,
   "metadata": {},
   "outputs": [
    {
     "name": "stdout",
     "output_type": "stream",
     "text": [
      "Iam Pursuing MBA and my roll no is, 96\n"
     ]
    }
   ],
   "source": [
    "jagadeesh_str4=96\n",
    "jagadeesh_str5='Iam Pursuing MBA and my roll no is, {}'\n",
    "print(jagadeesh_str5.format(jagadeesh_str4))"
   ]
  },
  {
   "cell_type": "markdown",
   "metadata": {},
   "source": [
    "* The **format() method** takes **unlimited number of arguments**, and are **placed into the respective placeholders:**"
   ]
  },
  {
   "cell_type": "code",
   "execution_count": 29,
   "metadata": {},
   "outputs": [
    {
     "name": "stdout",
     "output_type": "stream",
     "text": [
      "Iam Pursuing MBA and my roll no is 96 and my CGPA is 8.08\n"
     ]
    }
   ],
   "source": [
    "CGPA=8.08\n",
    "jagadeesh_str4=96\n",
    "jagadeesh_str6='Iam Pursuing MBA and my roll no is {} and my CGPA is {}'\n",
    "print(jagadeesh_str6.format(jagadeesh_str4,CGPA))"
   ]
  },
  {
   "cell_type": "code",
   "execution_count": 30,
   "metadata": {},
   "outputs": [],
   "source": [
    "#You can use index numbers {0} to be sure the arguments are placed in the correct placeholders:"
   ]
  },
  {
   "cell_type": "code",
   "execution_count": 32,
   "metadata": {},
   "outputs": [
    {
     "name": "stdout",
     "output_type": "stream",
     "text": [
      "Iam Pursuing MBA and my roll no is 96 and my CGPA is 8.08\n"
     ]
    }
   ],
   "source": [
    "jagadeesh_str6='Iam Pursuing MBA and my roll no is {0} and my CGPA is {1}'\n",
    "print(jagadeesh_str6.format(jagadeesh_str4,CGPA))"
   ]
  },
  {
   "cell_type": "markdown",
   "metadata": {},
   "source": [
    "**Escape Character**\n",
    "\n",
    "* To insert characters that are illegal in a string, use an escape character.\n",
    "\n",
    "* An escape character is a backslash \\ followed by the character you want to insert.\n",
    "\n",
    "* An example of an illegal character is a double quote inside a string that is surrounded by double quotes:"
   ]
  },
  {
   "cell_type": "code",
   "execution_count": 34,
   "metadata": {},
   "outputs": [
    {
     "ename": "SyntaxError",
     "evalue": "invalid syntax (<ipython-input-34-815ab821e97c>, line 3)",
     "output_type": "error",
     "traceback": [
      "\u001b[1;36m  File \u001b[1;32m\"<ipython-input-34-815ab821e97c>\"\u001b[1;36m, line \u001b[1;32m3\u001b[0m\n\u001b[1;33m    jagadeesh_str6 = \"iam Living in \"kamareddy\" district\"\u001b[0m\n\u001b[1;37m                                             ^\u001b[0m\n\u001b[1;31mSyntaxError\u001b[0m\u001b[1;31m:\u001b[0m invalid syntax\n"
     ]
    }
   ],
   "source": [
    "#You will get an error if you use double quotes inside a string that is surrounded by double quotes:\n",
    "\n",
    "jagadeesh_str7 = \"iam Living in \"kamareddy\" district\""
   ]
  },
  {
   "cell_type": "markdown",
   "metadata": {},
   "source": [
    "**To fix this problem, use the escape character \\\":**"
   ]
  },
  {
   "cell_type": "code",
   "execution_count": 37,
   "metadata": {},
   "outputs": [
    {
     "data": {
      "text/plain": [
       "'iam Living in \"kamareddy\" district'"
      ]
     },
     "execution_count": 37,
     "metadata": {},
     "output_type": "execute_result"
    }
   ],
   "source": [
    "#use escape ethod to overcome this problem\n",
    "jagadeesh_str7 = \"iam Living in \\\"kamareddy\\\" district\"\n",
    "jagadeesh_str7"
   ]
  },
  {
   "cell_type": "markdown",
   "metadata": {},
   "source": [
    "**Other escape characters used in Python**\n",
    "\n",
    "*  \\' ------------Single Quote\n",
    "\n",
    "*  \\\\-------------Backslash\n",
    "\n",
    "*  \\n-------------New Line\n",
    "\n",
    "*  \\r-------------Carriage Return\n",
    "\n",
    "*  \\t-------------Tab\n",
    "\n",
    "*  \\b-------------Backspace\n",
    "\n",
    "*  \\f-------------Form Feed\n",
    "\n",
    "*  \\ooo-----------Octal value\n",
    "\n",
    "*  \\xhh-----------Hex value"
   ]
  },
  {
   "cell_type": "markdown",
   "metadata": {},
   "source": [
    "**String Methods**\n",
    "\n",
    "* Python has a set of built-in methods that you can use on strings."
   ]
  },
  {
   "cell_type": "markdown",
   "metadata": {},
   "source": [
    "**capitalize()**\n",
    "* Converts the first character to upper case\n",
    "\n",
    "**casefold()**\t\n",
    "* Converts string into lower case\n",
    "\n",
    "**center()**\t\n",
    "* Returns a centered string\n",
    "\n",
    "**count()**\t\n",
    "* Returns the number of times a specified value occurs in a string\n",
    "\n",
    "**encode()**\t\n",
    "* Returns an encoded version of the string\n",
    "\n",
    "**endswith()**\t\n",
    "* Returns true if the string ends with the specified value\n",
    "\n",
    "**expandtabs()**\t\n",
    "Sets the tab size of the string\n",
    "\n",
    "**find()**\t\n",
    "* Searches the string for a specified value and returns the position of where it was found\n",
    "\n",
    "**format()**\t\n",
    "* Formats specified values in a string\n",
    "\n",
    "**format_map()**\t\n",
    "* Formats specified values in a string\n",
    "\n",
    "**index()**\t\n",
    "* Searches the string for a specified value and returns the position of where it was found\n",
    "\n",
    "**isalnum()**\t\n",
    "* Returns True if all characters in the string are alphanumeric\n",
    "\n",
    "**isalpha()**\t\n",
    "* Returns True if all characters in the string are in the alphabet\n",
    "\n",
    "**isdecimal()**\t\n",
    "* Returns True if all characters in the string are decimals\n",
    "\n",
    "**isdigit()**\t\n",
    "* Returns True if all characters in the string are digits\n",
    "\n",
    "**isidentifier()**\t\n",
    "* Returns True if the string is an identifier\n",
    "\n",
    "**islower()**\t\n",
    "* Returns True if all characters in the string are lower case\n",
    "\n",
    "**isnumeric()**\t\n",
    "* Returns True if all characters in the string are numeric\n",
    "\n",
    "**isprintable()**\t\n",
    "* Returns True if all characters in the string are printable\n",
    "\n",
    "isspace()\t\n",
    "* Returns True if all characters in the string are whitespaces\n",
    "\n",
    "**istitle()**\t\n",
    "* Returns True if the string follows the rules of a title\n",
    "\n",
    "**isupper()**\t\n",
    "* Returns True if all characters in the string are upper case\n",
    "\n",
    "**join()**\t\n",
    "* Joins the elements of an iterable to the end of the string\n",
    "\n",
    "**ljust()**\t\n",
    "* Returns a left justified version of the string\n",
    "\n",
    "**lower()**\t\n",
    "* Converts a string into lower case\n",
    "\n",
    "**lstrip()**\t\n",
    "* Returns a left trim version of the string\n",
    "\n",
    "**maketrans()**\t\n",
    "* Returns a translation table to be used in translations\n",
    "\n",
    "**partition()**\t\n",
    "* Returns a tuple where the string is parted into three parts\n",
    "\n",
    "**replace()**\t\n",
    "* Returns a string where a specified value is replaced with a specified value\n",
    "\n",
    "**rfind()**\t\n",
    "* Searches the string for a specified value and returns the last position of where it was found\n",
    "\n",
    "**rindex()**\t\n",
    "* Searches the string for a specified value and returns the last position of where it was found\n",
    "\n",
    "**rjust()**\t\n",
    "* Returns a right justified version of the string\n",
    "\n",
    "**rpartition()**\t\n",
    "* Returns a tuple where the string is parted into three parts\n",
    "\n",
    "**rsplit()**\t\n",
    "Splits the string at the specified separator, and returns a list\n",
    "\n",
    "**rstrip()**\t\n",
    "* Returns a right trim version of the string\n",
    "\n",
    "**split()**\t\n",
    "* Splits the string at the specified separator, and returns a list\n",
    "\n",
    "**splitlines()**\t\n",
    "* Splits the string at line breaks and returns a list\n",
    "\n",
    "**startswith()**\t\n",
    "* Returns true if the string starts with the specified value\n",
    "\n",
    "**strip()**\t\n",
    "* Returns a trimmed version of the string\n",
    "\n",
    "**swapcase()**\t\n",
    "* Swaps cases, lower case becomes upper case and vice versa\n",
    "\n",
    "**title()**\t\n",
    "* Converts the first character of each word to upper case\n",
    "\n",
    "**translate()**\t\n",
    "* Returns a translated string\n",
    "\n",
    "**upper()**\t\n",
    "* Converts a string into upper case\n",
    "\n",
    "**zfill()**\t\n",
    "* Fills the string with a specified number of 0 values at the beginning"
   ]
  },
  {
   "cell_type": "code",
   "execution_count": null,
   "metadata": {},
   "outputs": [],
   "source": []
  }
 ],
 "metadata": {
  "kernelspec": {
   "display_name": "Python 3",
   "language": "python",
   "name": "python3"
  },
  "language_info": {
   "codemirror_mode": {
    "name": "ipython",
    "version": 3
   },
   "file_extension": ".py",
   "mimetype": "text/x-python",
   "name": "python",
   "nbconvert_exporter": "python",
   "pygments_lexer": "ipython3",
   "version": "3.7.4"
  }
 },
 "nbformat": 4,
 "nbformat_minor": 2
}
