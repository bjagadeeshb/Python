{
 "cells": [
  {
   "cell_type": "markdown",
   "metadata": {},
   "source": [
    "**Table of Content**\n",
    "* def of for loop\n",
    "* The break Statement\n",
    "* The continue Statement\n",
    "* The range() Function\n",
    "* Else in For Loop\n",
    "* Nested if in for loop\n",
    "* The pass Statement\n",
    "* enumerate()"
   ]
  },
  {
   "cell_type": "markdown",
   "metadata": {},
   "source": [
    "**for loop**\n",
    "\n",
    "* A **for loop** is used for **iterating** over a **sequence** (that is either a **list, a tuple, a dictionary, a set, or a string**).\n",
    "\n",
    "* With the for loop we can execute a set of statements, once for each item in a list, tuple, set etc."
   ]
  },
  {
   "cell_type": "code",
   "execution_count": 2,
   "metadata": {},
   "outputs": [
    {
     "data": {
      "text/plain": [
       "['MBA', 'CBIT', 96, 'bjagadeeshb786@gmail.com']"
      ]
     },
     "execution_count": 2,
     "metadata": {},
     "output_type": "execute_result"
    }
   ],
   "source": [
    "jagadeesh_list1=['MBA','CBIT',96,'bjagadeeshb786@gmail.com']\n",
    "jagadeesh_list1"
   ]
  },
  {
   "cell_type": "code",
   "execution_count": 4,
   "metadata": {},
   "outputs": [
    {
     "name": "stdout",
     "output_type": "stream",
     "text": [
      "MBA\n",
      "CBIT\n",
      "96\n",
      "bjagadeeshb786@gmail.com\n"
     ]
    }
   ],
   "source": [
    "for i in jagadeesh_list1:\n",
    "    print(i)"
   ]
  },
  {
   "cell_type": "code",
   "execution_count": 5,
   "metadata": {},
   "outputs": [
    {
     "name": "stdout",
     "output_type": "stream",
     "text": [
      "j\n",
      "a\n",
      "g\n",
      "a\n",
      "d\n",
      "e\n",
      "e\n",
      "s\n",
      "h\n"
     ]
    }
   ],
   "source": [
    "for x in 'jagadeesh':\n",
    "    print(x)"
   ]
  },
  {
   "cell_type": "markdown",
   "metadata": {},
   "source": [
    "**The break Statement**\n",
    "\n",
    "* With the break statement we can **stop the loop** before **it has looped through all the items:**"
   ]
  },
  {
   "cell_type": "code",
   "execution_count": 6,
   "metadata": {},
   "outputs": [
    {
     "name": "stdout",
     "output_type": "stream",
     "text": [
      "MBA\n",
      "CBIT\n",
      "96\n"
     ]
    }
   ],
   "source": [
    "for i in jagadeesh_list1:\n",
    "    print(i)\n",
    "    if i==96:\n",
    "        break"
   ]
  },
  {
   "cell_type": "code",
   "execution_count": 12,
   "metadata": {},
   "outputs": [
    {
     "name": "stdout",
     "output_type": "stream",
     "text": [
      "MBA\n",
      "CBIT\n"
     ]
    }
   ],
   "source": [
    "for i in jagadeesh_list1:\n",
    "    if i==96:\n",
    "        break\n",
    "    print(i)"
   ]
  },
  {
   "cell_type": "code",
   "execution_count": 13,
   "metadata": {},
   "outputs": [],
   "source": [
    "#when print() comes down then it excludes the value that we have entioned, if print comes up, then value is included"
   ]
  },
  {
   "cell_type": "markdown",
   "metadata": {},
   "source": [
    "**The continue Statement**\n",
    "\n",
    "* With the **continue statement** we can **stop the current iteration of the loop**, and **continue with the next:**"
   ]
  },
  {
   "cell_type": "code",
   "execution_count": 19,
   "metadata": {},
   "outputs": [
    {
     "name": "stdout",
     "output_type": "stream",
     "text": [
      "MBA\n",
      "CBIT\n",
      "bjagadeeshb786@gmail.com\n"
     ]
    }
   ],
   "source": [
    "for i in jagadeesh_list1:\n",
    "    if i == 96:\n",
    "        continue\n",
    "    print(i)"
   ]
  },
  {
   "cell_type": "markdown",
   "metadata": {},
   "source": [
    "**The range() Function**\n",
    "\n",
    "* To loop through a set of code a specified number of times, we can use the **range() function,**\n",
    "\n",
    "* The range() function **returns a sequence of numbers,** starting from **0 by default,** and increments by **1 (by default),** and **ends at a specified number.**"
   ]
  },
  {
   "cell_type": "code",
   "execution_count": 21,
   "metadata": {},
   "outputs": [
    {
     "name": "stdout",
     "output_type": "stream",
     "text": [
      "0\n",
      "1\n",
      "2\n",
      "3\n",
      "4\n",
      "5\n"
     ]
    }
   ],
   "source": [
    "for i in range(6):\n",
    "    print(i)"
   ]
  },
  {
   "cell_type": "markdown",
   "metadata": {},
   "source": [
    "**Note that range(6) is not the values of 0 to 6, but the values 0 to 5.**"
   ]
  },
  {
   "cell_type": "markdown",
   "metadata": {},
   "source": [
    "**The range() **function defaults to increment the sequence by **1**, however **it is possible to specify the increment value**  in a third parameter:"
   ]
  },
  {
   "cell_type": "code",
   "execution_count": 25,
   "metadata": {},
   "outputs": [
    {
     "name": "stdout",
     "output_type": "stream",
     "text": [
      "2\n",
      "7\n",
      "12\n",
      "17\n",
      "22\n",
      "27\n"
     ]
    }
   ],
   "source": [
    "for i in range(2,30,5):#   paraeter1 reprasents-'starting-point,  'para-2:-'ENDPOINT',   &    PARA-3:- increment value \n",
    "    print(i)"
   ]
  },
  {
   "cell_type": "markdown",
   "metadata": {},
   "source": [
    "**Else in For Loop**\n",
    "\n",
    "* The **else keyword** in a **for loop** specifies a **block of code to be executed when the loop is finished:**"
   ]
  },
  {
   "cell_type": "code",
   "execution_count": 29,
   "metadata": {},
   "outputs": [
    {
     "name": "stdout",
     "output_type": "stream",
     "text": [
      "MBA\n",
      "CBIT\n",
      "96\n",
      "bjagadeeshb786@gmail.com\n",
      "Reached end of the list\n"
     ]
    }
   ],
   "source": [
    "for i in jagadeesh_list1:\n",
    "    print(i)\n",
    "else:\n",
    "    print('Reached end of the list')"
   ]
  },
  {
   "cell_type": "markdown",
   "metadata": {},
   "source": [
    "* **Note:** The else block will NOT be executed if the **loop is stopped by a break statement.**"
   ]
  },
  {
   "cell_type": "code",
   "execution_count": 32,
   "metadata": {},
   "outputs": [
    {
     "data": {
      "text/plain": [
       "['MBA', 'CBIT', 96, 'bjagadeeshb786@gmail.com']"
      ]
     },
     "execution_count": 32,
     "metadata": {},
     "output_type": "execute_result"
    }
   ],
   "source": [
    "jagadeesh_list1"
   ]
  },
  {
   "cell_type": "code",
   "execution_count": 35,
   "metadata": {},
   "outputs": [
    {
     "name": "stdout",
     "output_type": "stream",
     "text": [
      "excusuion has done\n",
      "excusuion has done\n",
      "excusuion has done\n",
      "excusuion has done\n",
      "excusuion has done\n",
      "excusuion has done\n"
     ]
    }
   ],
   "source": [
    "for i in range(8):\n",
    "    if i ==6:\n",
    "        break\n",
    "        print(i)\n",
    "    else:\n",
    "        print('excusuion has done')"
   ]
  },
  {
   "cell_type": "code",
   "execution_count": 39,
   "metadata": {},
   "outputs": [
    {
     "name": "stdout",
     "output_type": "stream",
     "text": [
      "Finally finished!\n",
      "Finally finished!\n",
      "Finally finished!\n"
     ]
    }
   ],
   "source": [
    "for x in range(6):\n",
    "    if x == 3:\n",
    "        break\n",
    "        print(x)\n",
    "    else:\n",
    "        print(\"Finally finished!\")"
   ]
  },
  {
   "cell_type": "code",
   "execution_count": 46,
   "metadata": {},
   "outputs": [
    {
     "data": {
      "text/plain": [
       "[1, 2, 3, 5]"
      ]
     },
     "execution_count": 46,
     "metadata": {},
     "output_type": "execute_result"
    }
   ],
   "source": [
    "jagadeesh_list2=[1,2,3,5]\n",
    "jagadeesh_list2"
   ]
  },
  {
   "cell_type": "markdown",
   "metadata": {},
   "source": [
    "**Nested if in for loop**"
   ]
  },
  {
   "cell_type": "code",
   "execution_count": 47,
   "metadata": {},
   "outputs": [
    {
     "name": "stdout",
     "output_type": "stream",
     "text": [
      "MBA 1\n",
      "MBA 2\n",
      "MBA 3\n",
      "MBA 5\n",
      "CBIT 1\n",
      "CBIT 2\n",
      "CBIT 3\n",
      "CBIT 5\n",
      "96 1\n",
      "96 2\n",
      "96 3\n",
      "96 5\n",
      "bjagadeeshb786@gmail.com 1\n",
      "bjagadeeshb786@gmail.com 2\n",
      "bjagadeeshb786@gmail.com 3\n",
      "bjagadeeshb786@gmail.com 5\n"
     ]
    }
   ],
   "source": [
    "for x in jagadeesh_list1:\n",
    "    for j in jagadeesh_list2:\n",
    "        print(x,j)"
   ]
  },
  {
   "cell_type": "markdown",
   "metadata": {},
   "source": [
    "**The pass Statement**\n",
    "* **for loops cannot be empty,** but **if you for some reason have a for loop with no content,** put in the **pass statement** to **avoid getting an error.**"
   ]
  },
  {
   "cell_type": "code",
   "execution_count": 49,
   "metadata": {},
   "outputs": [],
   "source": [
    "for i in [1,2,3]:\n",
    "    pass"
   ]
  },
  {
   "cell_type": "markdown",
   "metadata": {},
   "source": [
    "**enumerate()**\n",
    "\n",
    "* enumerate() IN PYTHON is a **built-in function** used **for assigning an index** to each item of the iterable object."
   ]
  },
  {
   "cell_type": "code",
   "execution_count": 50,
   "metadata": {},
   "outputs": [
    {
     "data": {
      "text/plain": [
       "['MBA', 'CBIT', 96, 'bjagadeeshb786@gmail.com']"
      ]
     },
     "execution_count": 50,
     "metadata": {},
     "output_type": "execute_result"
    }
   ],
   "source": [
    "jagadeesh_list1"
   ]
  },
  {
   "cell_type": "code",
   "execution_count": 52,
   "metadata": {},
   "outputs": [
    {
     "name": "stdout",
     "output_type": "stream",
     "text": [
      "0 MBA\n",
      "1 CBIT\n",
      "2 96\n",
      "3 bjagadeeshb786@gmail.com\n"
     ]
    }
   ],
   "source": [
    "for i,m in enumerate(jagadeesh_list1):\n",
    "    print(i,m)"
   ]
  },
  {
   "cell_type": "code",
   "execution_count": null,
   "metadata": {},
   "outputs": [],
   "source": []
  }
 ],
 "metadata": {
  "kernelspec": {
   "display_name": "Python 3",
   "language": "python",
   "name": "python3"
  },
  "language_info": {
   "codemirror_mode": {
    "name": "ipython",
    "version": 3
   },
   "file_extension": ".py",
   "mimetype": "text/x-python",
   "name": "python",
   "nbconvert_exporter": "python",
   "pygments_lexer": "ipython3",
   "version": "3.7.4"
  }
 },
 "nbformat": 4,
 "nbformat_minor": 2
}
