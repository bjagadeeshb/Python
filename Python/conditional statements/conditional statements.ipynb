{
 "cells": [
  {
   "cell_type": "markdown",
   "metadata": {},
   "source": [
    "python have different types of conditional statements...\n",
    "\n",
    "* if statements\n",
    "*  If…else statements\n",
    "* Nested if statements\n",
    "*  If-elif ladder"
   ]
  },
  {
   "cell_type": "markdown",
   "metadata": {},
   "source": [
    "**if Statement**\n",
    "* if Statement is used for **decision-making operations.** It contains **a body of code** which runs only **when the condition given in the if statement is true**. If the condition is **false**, then the **optional else statement runs which contains some code for the else condition.**"
   ]
  },
  {
   "cell_type": "markdown",
   "metadata": {},
   "source": [
    "**Syntax**"
   ]
  },
  {
   "cell_type": "raw",
   "metadata": {},
   "source": [
    "if (condition):\n",
    "    # if block"
   ]
  },
  {
   "cell_type": "code",
   "execution_count": 5,
   "metadata": {},
   "outputs": [
    {
     "name": "stdout",
     "output_type": "stream",
     "text": [
      "The condition is true\n"
     ]
    }
   ],
   "source": [
    "i=10\n",
    "if(i%2==0):\n",
    "    print('The condition is true')"
   ]
  },
  {
   "cell_type": "code",
   "execution_count": 6,
   "metadata": {},
   "outputs": [],
   "source": [
    "#if the condition is not true then 'if statement' doesn't return anything"
   ]
  },
  {
   "cell_type": "code",
   "execution_count": 7,
   "metadata": {},
   "outputs": [],
   "source": [
    "i=10\n",
    "if(i%2==5):   #As we know that i%2==5 is incorrect, so if-statement doesnot print anything, at this time we need else statement\n",
    "    print('The condition is true') "
   ]
  },
  {
   "cell_type": "markdown",
   "metadata": {},
   "source": [
    "**When you want to justify one condition while the other condition is not true, then you use Python if else statement.**"
   ]
  },
  {
   "cell_type": "markdown",
   "metadata": {},
   "source": [
    "**if-else statement**"
   ]
  },
  {
   "cell_type": "markdown",
   "metadata": {},
   "source": [
    "* In **if statement**, if condition is **true** then it **will execute a block of statement** and if the condition is **false** then it **won’t.** but in this statement there are **two blocks** . In this statement **if the condition is false then execute the else condition.** "
   ]
  },
  {
   "cell_type": "markdown",
   "metadata": {},
   "source": [
    "**Syntax**"
   ]
  },
  {
   "cell_type": "raw",
   "metadata": {},
   "source": [
    "if(condition):\n",
    "    # if block\n",
    "else:\n",
    "    # else block"
   ]
  },
  {
   "cell_type": "code",
   "execution_count": 10,
   "metadata": {},
   "outputs": [
    {
     "name": "stdout",
     "output_type": "stream",
     "text": [
      "The condition is False\n"
     ]
    }
   ],
   "source": [
    "i=10\n",
    "if(i%2==5):   \n",
    "    print('The condition is true') \n",
    "else:\n",
    "     print('The condition is False') #in any conditional-statements,in print function we need to write by supporting the condit\n",
    "                                                                                                                            #ton"
   ]
  },
  {
   "cell_type": "code",
   "execution_count": 12,
   "metadata": {},
   "outputs": [],
   "source": [
    "def even_odd(num):\n",
    "    if (num%2==0):\n",
    "        print('{} is a Even Number'.format(num))\n",
    "    else:\n",
    "        print('{} is a Odd Number'.format(num))"
   ]
  },
  {
   "cell_type": "code",
   "execution_count": 13,
   "metadata": {},
   "outputs": [
    {
     "name": "stdout",
     "output_type": "stream",
     "text": [
      "88 is a Even Number\n"
     ]
    }
   ],
   "source": [
    "even_odd(88)"
   ]
  },
  {
   "cell_type": "code",
   "execution_count": 14,
   "metadata": {},
   "outputs": [
    {
     "name": "stdout",
     "output_type": "stream",
     "text": [
      "89 is a Odd Number\n"
     ]
    }
   ],
   "source": [
    "even_odd(89)"
   ]
  },
  {
   "cell_type": "markdown",
   "metadata": {},
   "source": [
    "**Nested if statements**"
   ]
  },
  {
   "cell_type": "markdown",
   "metadata": {},
   "source": [
    "* **Nested if** is placing an **if statement inside another if statement.** Nested if statement helpful if **you want to check another condition inside a condition**.  this feature useful to check multiple conditions in a given program."
   ]
  },
  {
   "cell_type": "code",
   "execution_count": 15,
   "metadata": {},
   "outputs": [
    {
     "name": "stdout",
     "output_type": "stream",
     "text": [
      "Jahageesh is a good student..hahaaha\n"
     ]
    }
   ],
   "source": [
    "i=10\n",
    "if(i>0):\n",
    "    print('Jahageesh is a good student..hahaaha')\n",
    "    if(i<0):\n",
    "        print('value is negative')"
   ]
  },
  {
   "cell_type": "markdown",
   "metadata": {},
   "source": [
    "**when this two conditions not meet then we can use else as we did before**"
   ]
  },
  {
   "cell_type": "code",
   "execution_count": 19,
   "metadata": {},
   "outputs": [
    {
     "name": "stdout",
     "output_type": "stream",
     "text": [
      "it is positve number\n"
     ]
    }
   ],
   "source": [
    "i=96\n",
    "if(i<0):\n",
    "    print('it is a negative number')\n",
    "if(i==10):\n",
    "    print('it is equal to 10')\n",
    "else:\n",
    "    print('it is positve number')"
   ]
  },
  {
   "cell_type": "markdown",
   "metadata": {},
   "source": [
    "**if-elif**\n",
    "The condition statement are executed **from top down**. In this **if-elif**, if the **if condition** is **true** then the **if block** will be executed **otherwise not.** Then check the **elif condition**, if it is true then it will be **executed **     otherwise not**. If **none of the condition is true** then the **else block will be executed.**\n",
    "\n"
   ]
  },
  {
   "cell_type": "markdown",
   "metadata": {},
   "source": [
    "**The Difference B/W else and elif**\n"
   ]
  },
  {
   "cell_type": "markdown",
   "metadata": {},
   "source": [
    "**else**\n",
    "\n",
    "* The else keyword catches anything which isn't caught by the preceding conditions.\n",
    "\n",
    "**elif**\n",
    "\n",
    "* The elif keyword is pythons way of saying \"if the previous conditions were not true, then try this condition\"."
   ]
  },
  {
   "cell_type": "code",
   "execution_count": 1,
   "metadata": {},
   "outputs": [
    {
     "name": "stdout",
     "output_type": "stream",
     "text": [
      "a is greater than b\n"
     ]
    }
   ],
   "source": [
    "a = 200\n",
    "b = 33\n",
    "if b > a:\n",
    "    print(\"b is greater than a\")\n",
    "elif a == b:\n",
    "    print(\"a and b are equal\")\n",
    "else:\n",
    "    print(\"a is greater than b\")"
   ]
  },
  {
   "cell_type": "code",
   "execution_count": null,
   "metadata": {},
   "outputs": [],
   "source": []
  }
 ],
 "metadata": {
  "kernelspec": {
   "display_name": "Python 3",
   "language": "python",
   "name": "python3"
  },
  "language_info": {
   "codemirror_mode": {
    "name": "ipython",
    "version": 3
   },
   "file_extension": ".py",
   "mimetype": "text/x-python",
   "name": "python",
   "nbconvert_exporter": "python",
   "pygments_lexer": "ipython3",
   "version": "3.7.4"
  }
 },
 "nbformat": 4,
 "nbformat_minor": 2
}
