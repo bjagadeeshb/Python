{
 "cells": [
  {
   "cell_type": "markdown",
   "metadata": {},
   "source": [
    "In this am going to discuess about few basics concepts like\n",
    "\n",
    "* Comments\n",
    "\n",
    "* Variables\n",
    "\n",
    "* Data Types\n",
    "\n",
    "* Operators"
   ]
  },
  {
   "cell_type": "markdown",
   "metadata": {},
   "source": [
    "# Comments"
   ]
  },
  {
   "cell_type": "markdown",
   "metadata": {},
   "source": [
    "* Comments can be used to explain Python code.\n",
    "\n",
    "* Comments can be used to make the code more readable.\n",
    "\n",
    "* Comments can be used to prevent execution when testing code.\n",
    "\n"
   ]
  },
  {
   "cell_type": "markdown",
   "metadata": {},
   "source": [
    "**Comments starts with a**  #,  **and Python will ignore them**"
   ]
  },
  {
   "cell_type": "markdown",
   "metadata": {},
   "source": [
    "Example"
   ]
  },
  {
   "cell_type": "code",
   "execution_count": 2,
   "metadata": {},
   "outputs": [],
   "source": [
    "#My name is jagadeesh"
   ]
  },
  {
   "cell_type": "markdown",
   "metadata": {},
   "source": [
    "Comments can be placed at the end of a line, and Python will ignore the rest of the line:"
   ]
  },
  {
   "cell_type": "code",
   "execution_count": 3,
   "metadata": {},
   "outputs": [
    {
     "name": "stdout",
     "output_type": "stream",
     "text": [
      "Hello Friends\n"
     ]
    }
   ],
   "source": [
    "print('Hello Friends')#This is a comment"
   ]
  },
  {
   "cell_type": "code",
   "execution_count": null,
   "metadata": {},
   "outputs": [],
   "source": []
  },
  {
   "cell_type": "markdown",
   "metadata": {},
   "source": [
    "# Variables"
   ]
  },
  {
   "cell_type": "markdown",
   "metadata": {},
   "source": [
    "Variables are containers for storing data values"
   ]
  },
  {
   "cell_type": "markdown",
   "metadata": {},
   "source": [
    "**Python has no command for declaring a variable.**\n",
    "\n",
    "**A variable is created the moment you first assign a value to it.**"
   ]
  },
  {
   "cell_type": "code",
   "execution_count": 5,
   "metadata": {},
   "outputs": [],
   "source": [
    "x=5\n",
    "y='MBA'\n",
    "Z=8.1\n",
    "K=True"
   ]
  },
  {
   "cell_type": "markdown",
   "metadata": {},
   "source": [
    "**Casting**\n",
    "\n",
    "* If you want to specify the data type of a variable, this can be done with casting."
   ]
  },
  {
   "cell_type": "code",
   "execution_count": 6,
   "metadata": {},
   "outputs": [],
   "source": [
    "x=int(3)\n",
    "y=str('MBA')\n",
    "z=float(8.1)\n",
    "k=bool(True)"
   ]
  },
  {
   "cell_type": "markdown",
   "metadata": {},
   "source": [
    "# variable Names"
   ]
  },
  {
   "cell_type": "markdown",
   "metadata": {},
   "source": [
    "* A variable name must start with a letter or the underscore character\n",
    "* A variable name cannot start with a number\n",
    "* A variable name can only contain alpha-numeric characters and underscores (A-z, 0-9, and _ )\n",
    "* Variable names are case-sensitive (age, Age and AGE are three different variables)\n",
    "Example"
   ]
  },
  {
   "cell_type": "markdown",
   "metadata": {},
   "source": [
    "**Assign multiple values**\n",
    "\n",
    "* Python allows you to assign values to multiple variables in one line:"
   ]
  },
  {
   "cell_type": "code",
   "execution_count": 8,
   "metadata": {},
   "outputs": [],
   "source": [
    "x,y,z=5,'MBA',8.0"
   ]
  },
  {
   "cell_type": "code",
   "execution_count": 9,
   "metadata": {},
   "outputs": [
    {
     "name": "stdout",
     "output_type": "stream",
     "text": [
      "5\n"
     ]
    }
   ],
   "source": [
    "print(x)"
   ]
  },
  {
   "cell_type": "code",
   "execution_count": 10,
   "metadata": {},
   "outputs": [],
   "source": [
    "# And you can assign the same value to multiple variables in one line:\n",
    "X=6,7,'mba'"
   ]
  },
  {
   "cell_type": "code",
   "execution_count": 11,
   "metadata": {},
   "outputs": [
    {
     "name": "stdout",
     "output_type": "stream",
     "text": [
      "(6, 7, 'mba')\n"
     ]
    }
   ],
   "source": [
    "print(X)"
   ]
  },
  {
   "cell_type": "markdown",
   "metadata": {},
   "source": [
    "# Output Variables"
   ]
  },
  {
   "cell_type": "markdown",
   "metadata": {},
   "source": [
    "* The Python print statement is often used to output variables.\n",
    "\n",
    "* To combine both text and a variable, Python uses the + character:"
   ]
  },
  {
   "cell_type": "code",
   "execution_count": 13,
   "metadata": {},
   "outputs": [
    {
     "name": "stdout",
     "output_type": "stream",
     "text": [
      "python is Awesome\n"
     ]
    }
   ],
   "source": [
    "jagadeesh_var1='Awesome'\n",
    "print('python is '+jagadeesh_var1)"
   ]
  },
  {
   "cell_type": "code",
   "execution_count": 15,
   "metadata": {},
   "outputs": [
    {
     "name": "stdout",
     "output_type": "stream",
     "text": [
      "python is Awesome\n"
     ]
    }
   ],
   "source": [
    "#even we can add variables using + operators\n",
    "\n",
    "jagadeesh_var2='python is '\n",
    "\n",
    "print(jagadeesh_var2+jagadeesh_var1)"
   ]
  },
  {
   "cell_type": "code",
   "execution_count": 16,
   "metadata": {},
   "outputs": [],
   "source": [
    "#note we cann't compare string and int"
   ]
  },
  {
   "cell_type": "markdown",
   "metadata": {},
   "source": [
    "**Global Variables**\n",
    "\n",
    "* Variables that are created outside of a function are known as global variables.\n",
    "\n",
    "* Global variables can be used by everyone, both inside of functions and outside."
   ]
  },
  {
   "cell_type": "code",
   "execution_count": 1,
   "metadata": {},
   "outputs": [
    {
     "name": "stdout",
     "output_type": "stream",
     "text": [
      "Python is awesome\n"
     ]
    }
   ],
   "source": [
    "# Create a variable outside of a function, and use it inside the function\n",
    "\n",
    "x = \"awesome\"\n",
    "\n",
    "def myfunc():\n",
    "  print(\"Python is \" + x)\n",
    "\n",
    "myfunc()"
   ]
  },
  {
   "cell_type": "markdown",
   "metadata": {},
   "source": [
    "**If you create a variable with the same name inside a function, this variable will be local**\n",
    "\n",
    "* ,and can only be used inside the function. The global variable with the same name will remain as it was, global and with the original value."
   ]
  },
  {
   "cell_type": "code",
   "execution_count": 2,
   "metadata": {},
   "outputs": [
    {
     "name": "stdout",
     "output_type": "stream",
     "text": [
      "Python is fantastic\n",
      "Python is awesome\n"
     ]
    }
   ],
   "source": [
    "#Create a variable inside a function, with the same name as the global variable\n",
    "\n",
    "x = \"awesome\"\n",
    "\n",
    "def myfunc():\n",
    "  x = \"fantastic\"\n",
    "  print(\"Python is \" + x)\n",
    "\n",
    "myfunc()\n",
    "\n",
    "print(\"Python is \" + x)"
   ]
  },
  {
   "cell_type": "markdown",
   "metadata": {},
   "source": [
    "**The global Keyword**\n",
    "\n",
    "* Normally, when you create a variable inside a function, that variable is local, and can only be used inside that function.\n",
    "\n",
    "* To create a global variable inside a function, you can use the global keyword."
   ]
  },
  {
   "cell_type": "code",
   "execution_count": 3,
   "metadata": {},
   "outputs": [
    {
     "name": "stdout",
     "output_type": "stream",
     "text": [
      "Python is fantastic\n"
     ]
    }
   ],
   "source": [
    "#Example\n",
    "\n",
    "#If you use the global keyword, the variable belongs to the global scope:\n",
    "\n",
    "def myfunc():\n",
    "  global x\n",
    "  x = \"fantastic\"\n",
    "\n",
    "myfunc()\n",
    "\n",
    "print(\"Python is \" + x)"
   ]
  },
  {
   "cell_type": "markdown",
   "metadata": {},
   "source": [
    "# DataTypes"
   ]
  },
  {
   "cell_type": "markdown",
   "metadata": {},
   "source": [
    "**Built-in Data Types**\n",
    "\n",
    "* In programming, data type is an important concept.\n",
    "\n",
    "* Variables can store data of different types, and different types can do different things.\n",
    "\n",
    "**Python has the following data types built-in by default, in these categories:**\n",
    "\n",
    "* Text Type:\tstr\n",
    "    \n",
    "* Numeric Types:\tint, float, complex\n",
    "    \n",
    "* Sequence Types:\tlist, tuple, range\n",
    "    \n",
    "* Mapping Type:\tdict\n",
    "    \n",
    "* Set Types:\tset, frozenset\n",
    "    \n",
    "* Boolean Type:\tbool\n",
    "    \n",
    "* Binary Types:\tbytes, bytearray, memoryview"
   ]
  },
  {
   "cell_type": "markdown",
   "metadata": {},
   "source": [
    "**Setting the datatype**\n",
    "\n",
    "* In Python, the data type is set when you assign a value to a variable:"
   ]
  },
  {
   "cell_type": "markdown",
   "metadata": {},
   "source": [
    "**Example\tData Type\tTry it**\n",
    "\n",
    "* x = \"Hello World\"  ----\tstr\t\n",
    "\n",
    "* x = 20\t----int\n",
    "\n",
    "* x = 20.5----\tfloat\t\n",
    "\n",
    "* x = 1j\t----complex\t\n",
    "\n",
    "* x = [\"apple\", \"banana\", \"cherry\"]\t----list\t\n",
    "\n",
    "* x = (\"apple\", \"banana\", \"cherry\")\t----tuple\t\n",
    "\n",
    "* x = range(6)\t---range\t\n",
    "\n",
    "* x = {\"name\" : \"John\", \"age\" : 36}----\tdict\n",
    "\n",
    "* x = {\"apple\", \"banana\", \"cherry\"}\t---set\t\n",
    "\n",
    "* x = frozenset({\"apple\", \"banana\", \"cherry\"})----\tfrozenset\t\n",
    "\n",
    "* x = True\t----bool\t\n",
    "\n",
    "* x = b\"Hello\"\t----bytes\t\n",
    "\n",
    "* x = bytearray(5)\t----bytearray\t\n",
    "\n",
    "* x = memoryview(bytes(5))\t----memoryview\t\n"
   ]
  },
  {
   "cell_type": "code",
   "execution_count": 5,
   "metadata": {},
   "outputs": [],
   "source": [
    "#If you want to specify the data type, you can use the following constructor functions:"
   ]
  },
  {
   "cell_type": "markdown",
   "metadata": {},
   "source": [
    "**Example\tData Type**\n",
    "\n",
    "* x = str(\"Hello World\")----\tstr\t\n",
    "\n",
    "* x = int(20)\t----int\t\n",
    "\n",
    "* x = float(20.5)----\tfloat\n",
    "\n",
    "* x = complex(1j)\t----complex\t\n",
    "\n",
    "* x = list((\"apple\", \"banana\", \"cherry\"))----\tlist\n",
    "\n",
    "* x = tuple((\"apple\", \"banana\", \"cherry\"))\t----tuple\t\n",
    "\n",
    "* x = range(6)----\trange\t\n",
    "\n",
    "* x = dict(name=\"John\", age=36)----\tdict\n",
    "\n",
    "* x = set((\"apple\", \"banana\", \"cherry\"))----\tset\t\n",
    "\n",
    "* x = frozenset((\"apple\", \"banana\", \"cherry\"))----\tfrozenset\t\n",
    "\n",
    "* x = bool(5)\t----bool\t\n",
    "\n",
    "* x = bytes(5)\t----bytes\n",
    "\n",
    "* x = bytearray(5)----\tbytearray\t\n",
    "\n",
    "* x = memoryview(bytes(5))\t----memoryview"
   ]
  },
  {
   "cell_type": "code",
   "execution_count": 7,
   "metadata": {},
   "outputs": [],
   "source": [
    "#we will gp in depth about variables like discuessing all of the above one-by-one in up coming notebooks\n"
   ]
  },
  {
   "cell_type": "markdown",
   "metadata": {},
   "source": [
    "# Operators"
   ]
  },
  {
   "cell_type": "markdown",
   "metadata": {},
   "source": [
    "* Operators are used to perform operations on variables and values.\n",
    "\n"
   ]
  },
  {
   "cell_type": "markdown",
   "metadata": {},
   "source": [
    "**Python divides the operators in the following groups:**\n",
    "\n",
    "* Arithmetic operators\n",
    "\n",
    "* Assignment operators\n",
    "\n",
    "* Comparison operators\n",
    "\n",
    "* Logical operators\n",
    "\n",
    "* Identity operators\n",
    "\n",
    "* Membership operators\n",
    "\n",
    "* Bitwise operators"
   ]
  },
  {
   "cell_type": "markdown",
   "metadata": {},
   "source": [
    "**Arithmetic operators** are used with numeric values to perform common mathematical operations:\n",
    "\n",
    "\n",
    "+\tAddition\tx + y\t\n",
    "\n",
    "-\tSubtraction\tx - y\t\n",
    "\n",
    "*\tMultiplication\tx * y\t\n",
    "\n",
    "* /\tDivision\tx / y\t\n",
    "\n",
    "* %\tModulus\tx % y\t\n",
    "\n",
    "* **\tExponentiation\tx ** y\t\n",
    "\n",
    "* //\tFloor division\tx // y\t\n"
   ]
  },
  {
   "cell_type": "markdown",
   "metadata": {},
   "source": [
    "**Assignment operators** are used to assign values to variables:\n",
    "\n",
    "\n",
    "* =\t------x = 5\tx = 5\t\n",
    "\n",
    "* +=\tx += 3\tx = x + 3\t\n",
    "\n",
    "* -=\tx -= 3\tx = x - 3\t\n",
    "\n",
    "* *=\tx *= 3\tx = x * 3\t\n",
    "\n",
    "* /=\tx /= 3\tx = x / 3\t\n",
    "\n",
    "* %=\tx %= 3\tx = x % 3\t\n",
    "\n",
    "* //=\tx //= 3\tx = x // 3\t\n",
    "\n",
    "* **=\tx **= 3\tx = x ** 3\t\n",
    "\n",
    "* &=\tx &= 3\tx = x & 3\t\n",
    "\n",
    "* |=\tx |= 3\tx = x | 3\t\n",
    "\n",
    "* ^=\tx ^= 3\tx = x ^ 3\t\n",
    "\n",
    "* >>=\tx >>= 3\tx = x >> 3\t\n",
    "\n",
    "* <<=\tx <<= 3\tx = x << 3"
   ]
  },
  {
   "cell_type": "markdown",
   "metadata": {},
   "source": [
    "i will add the images here"
   ]
  },
  {
   "cell_type": "code",
   "execution_count": null,
   "metadata": {},
   "outputs": [],
   "source": []
  }
 ],
 "metadata": {
  "kernelspec": {
   "display_name": "Python 3",
   "language": "python",
   "name": "python3"
  },
  "language_info": {
   "codemirror_mode": {
    "name": "ipython",
    "version": 3
   },
   "file_extension": ".py",
   "mimetype": "text/x-python",
   "name": "python",
   "nbconvert_exporter": "python",
   "pygments_lexer": "ipython3",
   "version": "3.7.4"
  }
 },
 "nbformat": 4,
 "nbformat_minor": 2
}
